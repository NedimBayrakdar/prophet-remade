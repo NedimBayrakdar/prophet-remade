{
 "cells": [
  {
   "cell_type": "markdown",
   "metadata": {},
   "source": [
    "# Title\n",
    "\n",
    "**Author**:\n",
    "\n",
    "**Date**:\n",
    "\n",
    "**Goal**:\n",
    "\n",
    "**Conclusion**:"
   ]
  },
  {
   "cell_type": "code",
   "execution_count": 1,
   "metadata": {},
   "outputs": [],
   "source": [
    "%load_ext autoreload\n",
    "%autoreload 2"
   ]
  },
  {
   "cell_type": "code",
   "execution_count": 2,
   "metadata": {},
   "outputs": [],
   "source": [
    "import logging\n",
    "import os\n",
    "import pathlib\n",
    "\n",
    "import matplotlib.pyplot as plt\n",
    "import numpy as np\n",
    "import pandas as pd\n",
    "\n",
    "from typing import List\n",
    "\n",
    "logging.basicConfig(level=logging.WARNING)"
   ]
  },
  {
   "cell_type": "code",
   "execution_count": 3,
   "metadata": {},
   "outputs": [],
   "source": [
    "from pyro.ops.stats import hpdi, pi # , pi, quantile\n",
    "import torch\n",
    "import pyro"
   ]
  },
  {
   "cell_type": "markdown",
   "metadata": {},
   "source": [
    "# Creating a fake dataset"
   ]
  },
  {
   "cell_type": "code",
   "execution_count": 8,
   "metadata": {},
   "outputs": [],
   "source": [
    "def test(*bla):\n",
    "    return bla"
   ]
  },
  {
   "cell_type": "code",
   "execution_count": 9,
   "metadata": {},
   "outputs": [
    {
     "data": {
      "text/plain": [
       "(1, 2, 3)"
      ]
     },
     "execution_count": 9,
     "metadata": {},
     "output_type": "execute_result"
    }
   ],
   "source": [
    "test(1, 2, 3)"
   ]
  },
  {
   "cell_type": "code",
   "execution_count": 27,
   "metadata": {},
   "outputs": [],
   "source": [
    "from prophet_remade.prophet_util import get_A, get_changepoints, sort_arrays_using_array, summary\n",
    "from prophet_remade.dataset import generate_dataset_v2"
   ]
  },
  {
   "cell_type": "code",
   "execution_count": 28,
   "metadata": {},
   "outputs": [],
   "source": [
    "fourier_order = 2\n",
    "params = {\n",
    "    \"deltas\": np.array([0.5, -2]),\n",
    "    \"k\": 1,\n",
    "    \"sigma\": 2,\n",
    "    \"fourier_coefficients\": 5 * np.concatenate([np.ones(fourier_order), np.zeros(fourier_order)]),\n",
    "    \"period\": 20\n",
    "}"
   ]
  },
  {
   "cell_type": "code",
   "execution_count": 29,
   "metadata": {},
   "outputs": [
    {
     "name": "stdout",
     "output_type": "stream",
     "text": [
      "(100,)\n"
     ]
    }
   ],
   "source": [
    "x2, y2 = generate_dataset_v2(**params)"
   ]
  },
  {
   "cell_type": "code",
   "execution_count": 30,
   "metadata": {},
   "outputs": [
    {
     "data": {
      "text/plain": [
       "[<matplotlib.lines.Line2D at 0x7fc877c96b70>]"
      ]
     },
     "execution_count": 30,
     "metadata": {},
     "output_type": "execute_result"
    },
    {
     "data": {
      "image/png": "[encoded data removed]",
      "text/plain": [
       "<Figure size 1008x504 with 1 Axes>"
      ]
     },
     "metadata": {
      "needs_background": "light"
     },
     "output_type": "display_data"
    }
   ],
   "source": [
    "plt.figure(figsize=(14, 7))\n",
    "plt.plot(x2, y2, 'o')"
   ]
  },
  {
   "cell_type": "code",
   "execution_count": 33,
   "metadata": {},
   "outputs": [],
   "source": [
    "from prophet_remade.prophet import Prophet"
   ]
  },
  {
   "cell_type": "code",
   "execution_count": 34,
   "metadata": {},
   "outputs": [],
   "source": [
    "model = Prophet(num_changepoints=2, fourier_order=5, period=10)"
   ]
  },
  {
   "cell_type": "code",
   "execution_count": 35,
   "metadata": {},
   "outputs": [
    {
     "name": "stderr",
     "output_type": "stream",
     "text": [
      "Warmup:   0%|          | 0/201 [00:00, ?it/s]/home/nedim/Projects/prophet-remade/src/prophet_remade/prophet.py:137: TracerWarning: Converting a tensor to a Python integer might cause the trace to be incorrect. We can't record the data flow of Python values, so this value will be treated as a constant in the future. This means that the trace might not generalize to other inputs!\n",
      "  print(f\"Deltas shape: {delta.shape}\")\n",
      "/home/nedim/Projects/prophet-remade/src/prophet_remade/prophet.py:138: TracerWarning: Converting a tensor to a Python integer might cause the trace to be incorrect. We can't record the data flow of Python values, so this value will be treated as a constant in the future. This means that the trace might not generalize to other inputs!\n",
      "  print(f\"Changepoints shape: {changepoints.shape}\")\n",
      "/home/nedim/Projects/prophet-remade/src/prophet_remade/prophet.py:139: TracerWarning: Converting a tensor to a Python integer might cause the trace to be incorrect. We can't record the data flow of Python values, so this value will be treated as a constant in the future. This means that the trace might not generalize to other inputs!\n",
      "  print(f\"Gamma shape: {gamma.shape}\")\n",
      "/home/nedim/Projects/prophet-remade/src/prophet_remade/prophet.py:140: TracerWarning: Converting a tensor to a Python integer might cause the trace to be incorrect. We can't record the data flow of Python values, so this value will be treated as a constant in the future. This means that the trace might not generalize to other inputs!\n",
      "  print(f\"X shape: {X.shape}\")\n",
      "/home/nedim/Projects/prophet-remade/src/prophet_remade/prophet.py:141: TracerWarning: Converting a tensor to a Python integer might cause the trace to be incorrect. We can't record the data flow of Python values, so this value will be treated as a constant in the future. This means that the trace might not generalize to other inputs!\n",
      "  print(f\"A shape: {A.shape}\")\n",
      "/home/nedim/Projects/prophet-remade/src/prophet_remade/prophet.py:142: TracerWarning: Converting a tensor to a Python integer might cause the trace to be incorrect. We can't record the data flow of Python values, so this value will be treated as a constant in the future. This means that the trace might not generalize to other inputs!\n",
      "  print(f\"Fourier terms shape: {fourier_terms.shape}\")\n",
      "/home/nedim/Projects/prophet-remade/src/prophet_remade/prophet.py:143: TracerWarning: Converting a tensor to a Python integer might cause the trace to be incorrect. We can't record the data flow of Python values, so this value will be treated as a constant in the future. This means that the trace might not generalize to other inputs!\n",
      "  print(f\"seasonality shape: {seasonality.shape}\")\n",
      "Warmup:   0%|          | 1/201 [00:00,  6.48it/s, step size=3.51e-03, acc. prob=1.000]"
     ]
    },
    {
     "name": "stdout",
     "output_type": "stream",
     "text": [
      "(100,)\n",
      "Deltas shape: torch.Size([1, 2])\n",
      "Changepoints shape: torch.Size([1, 2])\n",
      "Gamma shape: torch.Size([1, 2])\n",
      "X shape: torch.Size([1, 100])\n",
      "A shape: torch.Size([2, 100])\n",
      "Fourier terms shape: torch.Size([10, 100])\n",
      "seasonality shape: torch.Size([1, 100])\n",
      "Deltas shape: torch.Size([1, 2])\n",
      "Changepoints shape: torch.Size([1, 2])\n",
      "Gamma shape: torch.Size([1, 2])\n",
      "X shape: torch.Size([1, 100])\n",
      "A shape: torch.Size([2, 100])\n",
      "Fourier terms shape: torch.Size([10, 100])\n",
      "seasonality shape: torch.Size([1, 100])\n",
      "Deltas shape: torch.Size([1, 2])\n",
      "Changepoints shape: torch.Size([1, 2])\n",
      "Gamma shape: torch.Size([1, 2])\n",
      "X shape: torch.Size([1, 100])\n",
      "A shape: torch.Size([2, 100])\n",
      "Fourier terms shape: torch.Size([10, 100])\n",
      "seasonality shape: torch.Size([1, 100])\n",
      "Deltas shape: torch.Size([1, 2])\n",
      "Changepoints shape: torch.Size([1, 2])\n",
      "Gamma shape: torch.Size([1, 2])\n",
      "X shape: torch.Size([1, 100])\n",
      "A shape: torch.Size([2, 100])\n",
      "Fourier terms shape: torch.Size([10, 100])\n",
      "seasonality shape: torch.Size([1, 100])\n"
     ]
    },
    {
     "name": "stderr",
     "output_type": "stream",
     "text": [
      "Sample: 100%|██████████| 201/201 [00:26,  7.70it/s, step size=7.03e-02, acc. prob=0.967]"
     ]
    },
    {
     "name": "stdout",
     "output_type": "stream",
     "text": [
      "BEFORE k: dim torch.Size([101])\n",
      "BEFORE delta: dim torch.Size([101, 1, 2])\n",
      "AFTER delta: dim torch.Size([101, 2])\n",
      "BEFORE beta: dim torch.Size([101, 1, 10])\n",
      "AFTER beta: dim torch.Size([101, 10])\n",
      "BEFORE sigma: dim torch.Size([101])\n"
     ]
    },
    {
     "name": "stderr",
     "output_type": "stream",
     "text": [
      "\n"
     ]
    }
   ],
   "source": [
    "samples = model.fit(x2, y2, num_samples=101)"
   ]
  },
  {
   "cell_type": "code",
   "execution_count": 36,
   "metadata": {},
   "outputs": [
    {
     "data": {
      "text/html": [
       "<div>\n",
       "<style scoped>\n",
       "    .dataframe tbody tr th:only-of-type {\n",
       "        vertical-align: middle;\n",
       "    }\n",
       "\n",
       "    .dataframe tbody tr th {\n",
       "        vertical-align: top;\n",
       "    }\n",
       "\n",
       "    .dataframe thead th {\n",
       "        text-align: right;\n",
       "    }\n",
       "</style>\n",
       "<table border=\"1\" class=\"dataframe\">\n",
       "  <thead>\n",
       "    <tr style=\"text-align: right;\">\n",
       "      <th></th>\n",
       "      <th>mean</th>\n",
       "      <th>std</th>\n",
       "      <th>5%</th>\n",
       "      <th>25%</th>\n",
       "      <th>50%</th>\n",
       "      <th>75%</th>\n",
       "      <th>95%</th>\n",
       "    </tr>\n",
       "  </thead>\n",
       "  <tbody>\n",
       "    <tr>\n",
       "      <th>k</th>\n",
       "      <td>1.002804</td>\n",
       "      <td>0.026075</td>\n",
       "      <td>0.958585</td>\n",
       "      <td>0.983936</td>\n",
       "      <td>1.004487</td>\n",
       "      <td>1.022237</td>\n",
       "      <td>1.045473</td>\n",
       "    </tr>\n",
       "    <tr>\n",
       "      <th>sigma</th>\n",
       "      <td>4.247841</td>\n",
       "      <td>0.324221</td>\n",
       "      <td>3.781186</td>\n",
       "      <td>4.037144</td>\n",
       "      <td>4.212213</td>\n",
       "      <td>4.457510</td>\n",
       "      <td>4.828117</td>\n",
       "    </tr>\n",
       "    <tr>\n",
       "      <th>delta_0</th>\n",
       "      <td>0.494259</td>\n",
       "      <td>0.066470</td>\n",
       "      <td>0.394895</td>\n",
       "      <td>0.442334</td>\n",
       "      <td>0.494975</td>\n",
       "      <td>0.545384</td>\n",
       "      <td>0.607791</td>\n",
       "    </tr>\n",
       "    <tr>\n",
       "      <th>delta_1</th>\n",
       "      <td>-2.072275</td>\n",
       "      <td>0.085130</td>\n",
       "      <td>-2.196217</td>\n",
       "      <td>-2.140496</td>\n",
       "      <td>-2.067866</td>\n",
       "      <td>-2.011775</td>\n",
       "      <td>-1.927389</td>\n",
       "    </tr>\n",
       "    <tr>\n",
       "      <th>a_0</th>\n",
       "      <td>3.603393</td>\n",
       "      <td>0.501526</td>\n",
       "      <td>2.712125</td>\n",
       "      <td>3.287629</td>\n",
       "      <td>3.569140</td>\n",
       "      <td>3.886122</td>\n",
       "      <td>4.425153</td>\n",
       "    </tr>\n",
       "    <tr>\n",
       "      <th>a_1</th>\n",
       "      <td>-0.518660</td>\n",
       "      <td>0.570529</td>\n",
       "      <td>-1.498667</td>\n",
       "      <td>-0.889415</td>\n",
       "      <td>-0.546185</td>\n",
       "      <td>-0.137514</td>\n",
       "      <td>0.418351</td>\n",
       "    </tr>\n",
       "    <tr>\n",
       "      <th>a_2</th>\n",
       "      <td>0.171877</td>\n",
       "      <td>0.562181</td>\n",
       "      <td>-0.635845</td>\n",
       "      <td>-0.228279</td>\n",
       "      <td>0.104654</td>\n",
       "      <td>0.541328</td>\n",
       "      <td>1.032029</td>\n",
       "    </tr>\n",
       "    <tr>\n",
       "      <th>a_3</th>\n",
       "      <td>-0.156030</td>\n",
       "      <td>0.520849</td>\n",
       "      <td>-1.014890</td>\n",
       "      <td>-0.489864</td>\n",
       "      <td>-0.136337</td>\n",
       "      <td>0.238583</td>\n",
       "      <td>0.617291</td>\n",
       "    </tr>\n",
       "    <tr>\n",
       "      <th>a_4</th>\n",
       "      <td>0.016608</td>\n",
       "      <td>0.891397</td>\n",
       "      <td>-1.389284</td>\n",
       "      <td>-0.513163</td>\n",
       "      <td>-0.025303</td>\n",
       "      <td>0.594149</td>\n",
       "      <td>1.260592</td>\n",
       "    </tr>\n",
       "    <tr>\n",
       "      <th>b_0</th>\n",
       "      <td>-0.058704</td>\n",
       "      <td>0.435929</td>\n",
       "      <td>-0.729250</td>\n",
       "      <td>-0.305170</td>\n",
       "      <td>-0.085850</td>\n",
       "      <td>0.263551</td>\n",
       "      <td>0.625400</td>\n",
       "    </tr>\n",
       "    <tr>\n",
       "      <th>b_1</th>\n",
       "      <td>-0.221914</td>\n",
       "      <td>0.490701</td>\n",
       "      <td>-1.102144</td>\n",
       "      <td>-0.513023</td>\n",
       "      <td>-0.261350</td>\n",
       "      <td>0.106970</td>\n",
       "      <td>0.541824</td>\n",
       "    </tr>\n",
       "    <tr>\n",
       "      <th>b_2</th>\n",
       "      <td>-0.097173</td>\n",
       "      <td>0.583608</td>\n",
       "      <td>-0.962535</td>\n",
       "      <td>-0.469585</td>\n",
       "      <td>-0.034336</td>\n",
       "      <td>0.248588</td>\n",
       "      <td>0.837643</td>\n",
       "    </tr>\n",
       "    <tr>\n",
       "      <th>b_3</th>\n",
       "      <td>0.122291</td>\n",
       "      <td>0.683428</td>\n",
       "      <td>-0.813518</td>\n",
       "      <td>-0.341002</td>\n",
       "      <td>0.125353</td>\n",
       "      <td>0.547495</td>\n",
       "      <td>1.348837</td>\n",
       "    </tr>\n",
       "    <tr>\n",
       "      <th>b_4</th>\n",
       "      <td>-0.187209</td>\n",
       "      <td>0.375192</td>\n",
       "      <td>-0.765301</td>\n",
       "      <td>-0.450374</td>\n",
       "      <td>-0.210616</td>\n",
       "      <td>0.111264</td>\n",
       "      <td>0.415255</td>\n",
       "    </tr>\n",
       "  </tbody>\n",
       "</table>\n",
       "</div>"
      ],
      "text/plain": [
       "             mean       std        5%       25%       50%       75%       95%\n",
       "k        1.002804  0.026075  0.958585  0.983936  1.004487  1.022237  1.045473\n",
       "sigma    4.247841  0.324221  3.781186  4.037144  4.212213  4.457510  4.828117\n",
       "delta_0  0.494259  0.066470  0.394895  0.442334  0.494975  0.545384  0.607791\n",
       "delta_1 -2.072275  0.085130 -2.196217 -2.140496 -2.067866 -2.011775 -1.927389\n",
       "a_0      3.603393  0.501526  2.712125  3.287629  3.569140  3.886122  4.425153\n",
       "a_1     -0.518660  0.570529 -1.498667 -0.889415 -0.546185 -0.137514  0.418351\n",
       "a_2      0.171877  0.562181 -0.635845 -0.228279  0.104654  0.541328  1.032029\n",
       "a_3     -0.156030  0.520849 -1.014890 -0.489864 -0.136337  0.238583  0.617291\n",
       "a_4      0.016608  0.891397 -1.389284 -0.513163 -0.025303  0.594149  1.260592\n",
       "b_0     -0.058704  0.435929 -0.729250 -0.305170 -0.085850  0.263551  0.625400\n",
       "b_1     -0.221914  0.490701 -1.102144 -0.513023 -0.261350  0.106970  0.541824\n",
       "b_2     -0.097173  0.583608 -0.962535 -0.469585 -0.034336  0.248588  0.837643\n",
       "b_3      0.122291  0.683428 -0.813518 -0.341002  0.125353  0.547495  1.348837\n",
       "b_4     -0.187209  0.375192 -0.765301 -0.450374 -0.210616  0.111264  0.415255"
      ]
     },
     "execution_count": 36,
     "metadata": {},
     "output_type": "execute_result"
    }
   ],
   "source": [
    "model.summary()"
   ]
  },
  {
   "cell_type": "code",
   "execution_count": 37,
   "metadata": {},
   "outputs": [],
   "source": [
    "subset = x2[:100]\n",
    "subset_y = y2[:100]"
   ]
  },
  {
   "cell_type": "code",
   "execution_count": 38,
   "metadata": {},
   "outputs": [
    {
     "name": "stdout",
     "output_type": "stream",
     "text": [
      "(100,)\n",
      "k: torch.Size([101, 1])\n",
      "delta: torch.Size([101, 2])\n",
      "A: torch.Size([2, 100])\n",
      "gamma: torch.Size([101, 2])\n"
     ]
    }
   ],
   "source": [
    "mu = model.predict(subset)"
   ]
  },
  {
   "cell_type": "code",
   "execution_count": 39,
   "metadata": {},
   "outputs": [],
   "source": [
    "hdpi_upper = pi(mu, prob=0.99, dim=1)[:,1]\n",
    "hdpi_lower = pi(mu, prob=0.99, dim=1)[:,0]"
   ]
  },
  {
   "cell_type": "code",
   "execution_count": 40,
   "metadata": {},
   "outputs": [
    {
     "data": {
      "text/plain": [
       "<matplotlib.legend.Legend at 0x7fc877bbba90>"
      ]
     },
     "execution_count": 40,
     "metadata": {},
     "output_type": "execute_result"
    },
    {
     "data": {
      "image/png": "[encoded data removed]",
      "text/plain": [
       "<Figure size 1008x504 with 1 Axes>"
      ]
     },
     "metadata": {
      "needs_background": "light"
     },
     "output_type": "display_data"
    }
   ],
   "source": [
    "plt.figure(figsize=(14, 7))\n",
    "plt.plot(subset, mu.mean(axis=1), label='mean prediction')\n",
    "plt.fill_between(subset, hdpi_lower, hdpi_upper, alpha = 0.5, label='uncertainty')\n",
    "plt.plot(subset, subset_y, 'o', label='data')\n",
    "\n",
    "plt.legend(loc='best')\n"
   ]
  }
 ],
 "metadata": {
  "kernelspec": {
   "display_name": "Python 3",
   "language": "python",
   "name": "python3"
  },
  "language_info": {
   "codemirror_mode": {
    "name": "ipython",
    "version": 3
   },
   "file_extension": ".py",
   "mimetype": "text/x-python",
   "name": "python",
   "nbconvert_exporter": "python",
   "pygments_lexer": "ipython3",
   "version": "3.7.0"
  }
 },
 "nbformat": 4,
 "nbformat_minor": 4
}
